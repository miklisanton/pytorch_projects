{
 "cells": [
  {
   "cell_type": "code",
   "execution_count": 114,
   "id": "269d3122",
   "metadata": {},
   "outputs": [],
   "source": [
    "import torch\n",
    "import torch.nn as nn\n",
    "import torch.nn.functional as F"
   ]
  },
  {
   "cell_type": "code",
   "execution_count": 115,
   "id": "7934efd9",
   "metadata": {},
   "outputs": [
    {
     "name": "stdout",
     "output_type": "stream",
     "text": [
      "Net(\n",
      "  (fc1): Linear(in_features=784, out_features=200, bias=True)\n",
      "  (fc2): Linear(in_features=200, out_features=50, bias=True)\n",
      "  (fc3): Linear(in_features=50, out_features=10, bias=True)\n",
      ")\n"
     ]
    }
   ],
   "source": [
    "class Net(nn.Module):\n",
    "    def __init__(self):\n",
    "        super(Net, self).__init__()\n",
    "        self.fc1 = nn.Linear(28 * 28, 200)\n",
    "        self.fc2 = nn.Linear(200, 50)\n",
    "        self.fc3 = nn.Linear(50, 10)\n",
    "    def forward(self, x):\n",
    "        x = F.relu(self.fc1(x))\n",
    "        x = F.relu(self.fc2(x))\n",
    "        x = self.fc3(x)\n",
    "        return F.log_softmax(x, -1)\n",
    "net = Net()\n",
    "print(net)"
   ]
  },
  {
   "cell_type": "code",
   "execution_count": 116,
   "id": "aecd2c9c",
   "metadata": {},
   "outputs": [],
   "source": [
    "optimizer = torch.optim.SGD(net.parameters(), lr=0.01, momentum=0.9)\n",
    "criterion = nn.NLLLoss()"
   ]
  },
  {
   "cell_type": "code",
   "execution_count": 117,
   "id": "bb33814e",
   "metadata": {},
   "outputs": [],
   "source": [
    "from torchvision import datasets\n",
    "from torchvision.transforms import ToTensor"
   ]
  },
  {
   "cell_type": "code",
   "execution_count": 118,
   "id": "0ae3ea47",
   "metadata": {},
   "outputs": [],
   "source": [
    "import numpy as np"
   ]
  },
  {
   "cell_type": "code",
   "execution_count": 119,
   "id": "20474a88",
   "metadata": {},
   "outputs": [],
   "source": [
    "train_data = datasets.MNIST(\n",
    "    root = 'data',\n",
    "    train = True,\n",
    "    transform = ToTensor(),\n",
    "    download = True\n",
    ")\n",
    "\n",
    "test_data = datasets.MNIST(\n",
    "    root = 'data',\n",
    "    train = False,\n",
    "    transform = ToTensor()\n",
    ")"
   ]
  },
  {
   "cell_type": "code",
   "execution_count": 120,
   "id": "11a0f4f0",
   "metadata": {},
   "outputs": [],
   "source": [
    "from torch.utils.data import DataLoader\n",
    "loaders = {\n",
    "    'train' : torch.utils.data.DataLoader(train_data, \n",
    "                                          batch_size=100, \n",
    "                                          shuffle=True, \n",
    "                                          num_workers=1),\n",
    "    \n",
    "    'test'  : torch.utils.data.DataLoader(test_data, \n",
    "                                          batch_size=1000, \n",
    "                                          shuffle=True, \n",
    "                                          num_workers=1),\n",
    "}"
   ]
  },
  {
   "cell_type": "code",
   "execution_count": 124,
   "id": "11057481",
   "metadata": {},
   "outputs": [
    {
     "name": "stdout",
     "output_type": "stream",
     "text": [
      "[1,   200] loss: 0.266\n",
      "[1,   400] loss: 0.243\n",
      "[1,   600] loss: 0.223\n",
      "[2,   200] loss: 0.191\n",
      "[2,   400] loss: 0.179\n",
      "[2,   600] loss: 0.166\n",
      "[3,   200] loss: 0.141\n",
      "[3,   400] loss: 0.135\n",
      "[3,   600] loss: 0.130\n",
      "[4,   200] loss: 0.118\n",
      "[4,   400] loss: 0.112\n",
      "[4,   600] loss: 0.095\n",
      "[5,   200] loss: 0.096\n",
      "[5,   400] loss: 0.090\n",
      "[5,   600] loss: 0.088\n",
      "[6,   200] loss: 0.078\n",
      "[6,   400] loss: 0.075\n",
      "[6,   600] loss: 0.075\n",
      "[7,   200] loss: 0.064\n",
      "[7,   400] loss: 0.064\n",
      "[7,   600] loss: 0.069\n",
      "[8,   200] loss: 0.055\n",
      "[8,   400] loss: 0.053\n",
      "[8,   600] loss: 0.059\n",
      "[9,   200] loss: 0.049\n",
      "[9,   400] loss: 0.048\n",
      "[9,   600] loss: 0.050\n",
      "[10,   200] loss: 0.041\n",
      "[10,   400] loss: 0.040\n",
      "[10,   600] loss: 0.048\n"
     ]
    }
   ],
   "source": [
    "from torch.autograd import Variable\n",
    "losses = []\n",
    "for epoch in range(10):\n",
    "    running_loss = 0.0\n",
    "    for batch_idx, (data, target) in enumerate(loaders['train']):\n",
    "        data, target = Variable(data), Variable(target)\n",
    "        data = data.view(-1, 28*28)\n",
    "        optimizer.zero_grad()\n",
    "        net_out = net(data)\n",
    "        loss = criterion(net_out, target)\n",
    "        loss.backward()\n",
    "        optimizer.step()\n",
    "        running_loss += loss.item()\n",
    "        if batch_idx % 200 == 199:\n",
    "            print('[%d, %5d] loss: %.3f' %(epoch + 1, batch_idx + 1, running_loss / 200))\n",
    "            losses.append(running_loss/200)\n",
    "            running_loss = 0.0"
   ]
  },
  {
   "cell_type": "code",
   "execution_count": 125,
   "id": "8c0311c3",
   "metadata": {},
   "outputs": [
    {
     "name": "stdout",
     "output_type": "stream",
     "text": [
      "0.9773\n"
     ]
    }
   ],
   "source": [
    "total = 0\n",
    "correct = 0\n",
    "for k, (data, target) in enumerate(loaders['test']):\n",
    "    data = data.view(-1, 28*28)\n",
    "    \n",
    "    outputs = net(data)\n",
    "    _, predicted = torch.max(outputs.data, 1)\n",
    "    \n",
    "    correct += (predicted == target).sum().item()\n",
    "    total += target.size(0)\n",
    "print(correct/total)"
   ]
  },
  {
   "cell_type": "code",
   "execution_count": 123,
   "id": "952e7516",
   "metadata": {},
   "outputs": [],
   "source": [
    "def accuracy_by_num(model, test_data):\n",
    "    fails = np.zeros(10) # Network's mistakes by number\n",
    "    nums = np.zeros(10) # Amount of each number\n",
    "\n",
    "    for i, (data, target) in enumerate(test_data):\n",
    "        data = data.view(-1, 28*28)\n",
    "        outputs = model(data)\n",
    "        predicted = torch.argmax(outputs.data, dim = 1)\n",
    "    \n",
    "        for i, element in enumerate(predicted):\n",
    "            nums[target[i]] = nums[target[i]] + 1\n",
    "            if element != target[i]:\n",
    "                fails[target[i]] = fails[target[i]] + 1\n",
    "\n",
    "    accuracy_by_num = 1 - np.divide(fails, nums)\n",
    "    return np.around(accuracy_by_num, 4)"
   ]
  },
  {
   "cell_type": "code",
   "execution_count": 126,
   "id": "e8d26559",
   "metadata": {},
   "outputs": [
    {
     "data": {
      "text/plain": [
       "[<matplotlib.lines.Line2D at 0x12b07ecd0>]"
      ]
     },
     "execution_count": 126,
     "metadata": {},
     "output_type": "execute_result"
    },
    {
     "data": {
      "image/png": "[encoded data removed]",
      "text/plain": [
       "<Figure size 432x288 with 1 Axes>"
      ]
     },
     "metadata": {},
     "output_type": "display_data"
    }
   ],
   "source": [
    "import matplotlib.pyplot as plt\n",
    "plt.style.use('seaborn-whitegrid')\n",
    "figure = plt.figure()\n",
    "ax1 = figure.add_subplot()\n",
    "ax1.set_ylabel('Loss')\n",
    "ax1.plot(losses)"
   ]
  },
  {
   "cell_type": "code",
   "execution_count": 30,
   "id": "3611ed35",
   "metadata": {},
   "outputs": [
    {
     "data": {
      "text/plain": [
       "array([0.9867, 0.9894, 0.9719, 0.9634, 0.9817, 0.9809, 0.9791, 0.9698,\n",
       "       0.9784, 0.9574])"
      ]
     },
     "execution_count": 30,
     "metadata": {},
     "output_type": "execute_result"
    }
   ],
   "source": [
    "accuracy_by_num(net, loaders['test'])"
   ]
  },
  {
   "cell_type": "code",
   "execution_count": 12,
   "id": "34fc1a6d",
   "metadata": {},
   "outputs": [],
   "source": [
    "x = torch.randn(100, 28*28)\n",
    "out = net(x)\n",
    "onnx_path = \"onnx_model_name.onnx\"\n",
    "torch.onnx.export(net, x, onnx_path)"
   ]
  },
  {
   "cell_type": "code",
   "execution_count": 13,
   "id": "3c53a747",
   "metadata": {},
   "outputs": [],
   "source": [
    "PATH = 'bpModel.pth'\n",
    "torch.save(net.state_dict(), PATH)"
   ]
  },
  {
   "cell_type": "code",
   "execution_count": null,
   "id": "1bf0fdd0",
   "metadata": {},
   "outputs": [],
   "source": []
  }
 ],
 "metadata": {
  "kernelspec": {
   "display_name": "py_torch",
   "language": "python",
   "name": "py_torch"
  },
  "language_info": {
   "codemirror_mode": {
    "name": "ipython",
    "version": 3
   },
   "file_extension": ".py",
   "mimetype": "text/x-python",
   "name": "python",
   "nbconvert_exporter": "python",
   "pygments_lexer": "ipython3",
   "version": "3.8.10"
  }
 },
 "nbformat": 4,
 "nbformat_minor": 5
}
