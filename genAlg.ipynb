{
 "cells": [
  {
   "cell_type": "code",
   "execution_count": 286,
   "id": "269d3122",
   "metadata": {},
   "outputs": [],
   "source": [
    "import torch\n",
    "import torch.nn as nn\n",
    "import torch.nn.functional as F\n",
    "import pygad\n",
    "from pygad import torchga"
   ]
  },
  {
   "cell_type": "code",
   "execution_count": 287,
   "id": "7934efd9",
   "metadata": {},
   "outputs": [],
   "source": [
    "input_layer = torch.nn.Linear(28*28, 50)\n",
    "relu = torch.nn.ReLU()\n",
    "dense_layer = torch.nn.Linear(50, 10)\n",
    "softmax = torch.nn.Softmax(1)\n",
    "\n",
    "model = torch.nn.Sequential(input_layer,\n",
    "                            relu,\n",
    "                            dense_layer,\n",
    "                            softmax)"
   ]
  },
  {
   "cell_type": "code",
   "execution_count": 288,
   "id": "bb33814e",
   "metadata": {},
   "outputs": [],
   "source": [
    "from torchvision import datasets\n",
    "from torchvision.transforms import ToTensor"
   ]
  },
  {
   "cell_type": "code",
   "execution_count": 289,
   "id": "0ae3ea47",
   "metadata": {},
   "outputs": [],
   "source": [
    "import numpy as np"
   ]
  },
  {
   "cell_type": "code",
   "execution_count": 290,
   "id": "20474a88",
   "metadata": {},
   "outputs": [],
   "source": [
    "train_data = datasets.MNIST(\n",
    "    root = 'data',\n",
    "    train = True,\n",
    "    transform = ToTensor(),\n",
    "    download = True\n",
    ")\n",
    "\n",
    "test_data = datasets.MNIST(\n",
    "    root = 'data',\n",
    "    train = False,\n",
    "    transform = ToTensor()\n",
    ")"
   ]
  },
  {
   "cell_type": "code",
   "execution_count": 325,
   "id": "11a0f4f0",
   "metadata": {},
   "outputs": [],
   "source": [
    "from torch.utils.data import DataLoader\n",
    "loaders = {\n",
    "    'train' : torch.utils.data.DataLoader(train_data, \n",
    "                                          batch_size= 50000, \n",
    "                                          shuffle=True,\n",
    "                                          num_workers = 1),\n",
    "    \n",
    "    'test'  : torch.utils.data.DataLoader(test_data, \n",
    "                                          batch_size=100, \n",
    "                                          shuffle=True)\n",
    "}\n",
    "for batch_idx, (data, target) in enumerate(loaders['train']):\n",
    "    data_inputs = data\n",
    "    data_outputs = target"
   ]
  },
  {
   "cell_type": "code",
   "execution_count": 292,
   "id": "11057481",
   "metadata": {},
   "outputs": [],
   "source": [
    "losses = []\n",
    "\n",
    "def fitness_func(solution, sol_idx):\n",
    "    global data_inputs, data_outputs, torch_ga, model, loss_function\n",
    "    data_inputs = data_inputs.view(-1, 28*28) \n",
    "    predictions = pygad.torchga.predict(model=model,\n",
    "                                        solution=solution,\n",
    "                                        data=data_inputs)\n",
    "    solution_fitness = 1.0 / (loss_function(predictions, data_outputs).detach().numpy() + 0.00000001)\n",
    "    losses.append(loss_function(predictions, data_outputs).item())\n",
    "    return solution_fitness\n",
    "\n",
    "def callback_generation(ga_instance):\n",
    "    print(\"Generation = {generation}\".format(generation=ga_instance.generations_completed))\n",
    "    print(\"Fitness    = {fitness}\".format(fitness=ga_instance.best_solution()[1]))"
   ]
  },
  {
   "cell_type": "code",
   "execution_count": 329,
   "id": "946d87fa",
   "metadata": {},
   "outputs": [],
   "source": [
    "model.load_state_dict(torch.load(\"gaModel.pth\"))\n",
    "torch_ga = torchga.TorchGA(model=model,\n",
    "                           num_solutions=100)\n",
    "\n",
    "loss_function = torch.nn.CrossEntropyLoss()"
   ]
  },
  {
   "cell_type": "code",
   "execution_count": 330,
   "id": "fb0dd227",
   "metadata": {},
   "outputs": [],
   "source": [
    "initial_population = torch_ga.population_weights # Initial population of network weights.\n",
    "\n",
    "# Create an instance of the pygad.GA class\n",
    "ga_instance = pygad.GA(num_generations=100,\n",
    "                       sol_per_pop=100,\n",
    "                       crossover_type=\"single_point\",\n",
    "                       parent_selection_type=\"rank\",\n",
    "                       mutation_percent_genes = 1,\n",
    "                       num_parents_mating=20,\n",
    "                       keep_parents = 1,\n",
    "                       initial_population=initial_population,\n",
    "                       fitness_func=fitness_func,\n",
    "                       on_generation=callback_generation)\n"
   ]
  },
  {
   "cell_type": "code",
   "execution_count": 331,
   "id": "2a450a45",
   "metadata": {
    "scrolled": false
   },
   "outputs": [
    {
     "name": "stdout",
     "output_type": "stream",
     "text": [
      "Generation = 1\n",
      "Fitness    = 0.6194266220604551\n",
      "Generation = 2\n",
      "Fitness    = 0.6198166123053213\n",
      "Generation = 3\n",
      "Fitness    = 0.6199843661142895\n",
      "Generation = 4\n",
      "Fitness    = 0.620343358086244\n",
      "Generation = 5\n",
      "Fitness    = 0.6204068553359037\n",
      "Generation = 6\n",
      "Fitness    = 0.6205108922872323\n",
      "Generation = 7\n",
      "Fitness    = 0.6205856258388085\n",
      "Generation = 8\n",
      "Fitness    = 0.6209626435213136\n",
      "Generation = 9\n",
      "Fitness    = 0.6209626435213136\n",
      "Generation = 10\n",
      "Fitness    = 0.6210132107436114\n",
      "Generation = 11\n",
      "Fitness    = 0.6215024368097629\n",
      "Generation = 12\n",
      "Fitness    = 0.6215024368097629\n",
      "Generation = 13\n",
      "Fitness    = 0.6215024368097629\n",
      "Generation = 14\n",
      "Fitness    = 0.6215024368097629\n",
      "Generation = 15\n",
      "Fitness    = 0.6216172056519027\n",
      "Generation = 16\n",
      "Fitness    = 0.621728514795824\n",
      "Generation = 17\n",
      "Fitness    = 0.6218122071865261\n",
      "Generation = 18\n",
      "Fitness    = 0.6220773510484758\n",
      "Generation = 19\n",
      "Fitness    = 0.6220773510484758\n",
      "Generation = 20\n",
      "Fitness    = 0.6220773510484758\n",
      "Generation = 21\n",
      "Fitness    = 0.6220773510484758\n",
      "Generation = 22\n",
      "Fitness    = 0.6222903676090108\n",
      "Generation = 23\n",
      "Fitness    = 0.6222903676090108\n",
      "Generation = 24\n",
      "Fitness    = 0.6222903676090108\n",
      "Generation = 25\n",
      "Fitness    = 0.6223007545107696\n",
      "Generation = 26\n",
      "Fitness    = 0.6225135545530196\n",
      "Generation = 27\n",
      "Fitness    = 0.6225135545530196\n",
      "Generation = 28\n",
      "Fitness    = 0.6225135545530196\n",
      "Generation = 29\n",
      "Fitness    = 0.6225135545530196\n",
      "Generation = 30\n",
      "Fitness    = 0.622534112610549\n",
      "Generation = 31\n",
      "Fitness    = 0.6227011682865304\n",
      "Generation = 32\n",
      "Fitness    = 0.6227011682865304\n",
      "Generation = 33\n",
      "Fitness    = 0.6227131868120741\n",
      "Generation = 34\n",
      "Fitness    = 0.6229650816351056\n",
      "Generation = 35\n",
      "Fitness    = 0.6229650816351056\n",
      "Generation = 36\n",
      "Fitness    = 0.6229650816351056\n",
      "Generation = 37\n",
      "Fitness    = 0.6229650816351056\n",
      "Generation = 38\n",
      "Fitness    = 0.6230842789456306\n",
      "Generation = 39\n",
      "Fitness    = 0.6233264231727164\n",
      "Generation = 40\n",
      "Fitness    = 0.6233264231727164\n",
      "Generation = 41\n",
      "Fitness    = 0.6233264231727164\n",
      "Generation = 42\n",
      "Fitness    = 0.6233264231727164\n",
      "Generation = 43\n",
      "Fitness    = 0.6233264231727164\n",
      "Generation = 44\n",
      "Fitness    = 0.6233264231727164\n",
      "Generation = 45\n",
      "Fitness    = 0.6233795070670297\n",
      "Generation = 46\n",
      "Fitness    = 0.6233795070670297\n",
      "Generation = 47\n",
      "Fitness    = 0.6233795070670297\n",
      "Generation = 48\n",
      "Fitness    = 0.6233795070670297\n",
      "Generation = 49\n",
      "Fitness    = 0.6234167545679553\n",
      "Generation = 50\n",
      "Fitness    = 0.6234167545679553\n",
      "Generation = 51\n",
      "Fitness    = 0.6236669006375416\n",
      "Generation = 52\n",
      "Fitness    = 0.6236669006375416\n",
      "Generation = 53\n",
      "Fitness    = 0.6237665607332807\n",
      "Generation = 54\n",
      "Fitness    = 0.6237665607332807\n",
      "Generation = 55\n",
      "Fitness    = 0.6237665607332807\n",
      "Generation = 56\n",
      "Fitness    = 0.623934278602658\n",
      "Generation = 57\n",
      "Fitness    = 0.623934278602658\n",
      "Generation = 58\n",
      "Fitness    = 0.6239945213008277\n",
      "Generation = 59\n",
      "Fitness    = 0.6240362060315892\n",
      "Generation = 60\n",
      "Fitness    = 0.6240610431233736\n",
      "Generation = 61\n",
      "Fitness    = 0.6240610431233736\n",
      "Generation = 62\n",
      "Fitness    = 0.6241756443183152\n",
      "Generation = 63\n",
      "Fitness    = 0.6243023675576314\n",
      "Generation = 64\n",
      "Fitness    = 0.6245001269764453\n",
      "Generation = 65\n",
      "Fitness    = 0.6245001269764453\n",
      "Generation = 66\n",
      "Fitness    = 0.6245131449158606\n",
      "Generation = 67\n",
      "Fitness    = 0.6245131449158606\n",
      "Generation = 68\n",
      "Fitness    = 0.6245870785073062\n",
      "Generation = 69\n",
      "Fitness    = 0.6247327184213625\n",
      "Generation = 70\n",
      "Fitness    = 0.6247327184213625\n",
      "Generation = 71\n",
      "Fitness    = 0.6247327184213625\n",
      "Generation = 72\n",
      "Fitness    = 0.6247327184213625\n",
      "Generation = 73\n",
      "Fitness    = 0.6247327184213625\n",
      "Generation = 74\n",
      "Fitness    = 0.6247327184213625\n",
      "Generation = 75\n",
      "Fitness    = 0.6249833631154367\n",
      "Generation = 76\n",
      "Fitness    = 0.6249833631154367\n",
      "Generation = 77\n",
      "Fitness    = 0.6249833631154367\n",
      "Generation = 78\n",
      "Fitness    = 0.6249833631154367\n",
      "Generation = 79\n",
      "Fitness    = 0.6249833631154367\n",
      "Generation = 80\n",
      "Fitness    = 0.6250813949723918\n",
      "Generation = 81\n",
      "Fitness    = 0.6250813949723918\n",
      "Generation = 82\n",
      "Fitness    = 0.6252035936281943\n",
      "Generation = 83\n",
      "Fitness    = 0.6253554884230308\n",
      "Generation = 84\n",
      "Fitness    = 0.6253554884230308\n",
      "Generation = 85\n",
      "Fitness    = 0.6253554884230308\n",
      "Generation = 86\n",
      "Fitness    = 0.6253554884230308\n",
      "Generation = 87\n",
      "Fitness    = 0.6253554884230308\n",
      "Generation = 88\n",
      "Fitness    = 0.6254009919907478\n",
      "Generation = 89\n",
      "Fitness    = 0.6254009919907478\n",
      "Generation = 90\n",
      "Fitness    = 0.6254009919907478\n",
      "Generation = 91\n",
      "Fitness    = 0.6254009919907478\n",
      "Generation = 92\n",
      "Fitness    = 0.6254009919907478\n",
      "Generation = 93\n",
      "Fitness    = 0.6254146070500486\n",
      "Generation = 94\n",
      "Fitness    = 0.6254146070500486\n",
      "Generation = 95\n",
      "Fitness    = 0.6254146070500486\n",
      "Generation = 96\n",
      "Fitness    = 0.6254146070500486\n",
      "Generation = 97\n",
      "Fitness    = 0.6255167855366549\n",
      "Generation = 98\n",
      "Fitness    = 0.6255627324315031\n",
      "Generation = 99\n",
      "Fitness    = 0.6255627324315031\n",
      "Generation = 100\n",
      "Fitness    = 0.6256047669239606\n"
     ]
    },
    {
     "data": {
      "image/png": "[encoded data removed]",
      "text/plain": [
       "<Figure size 432x288 with 1 Axes>"
      ]
     },
     "metadata": {},
     "output_type": "display_data"
    },
    {
     "name": "stdout",
     "output_type": "stream",
     "text": [
      "Fitness value of the best solution = 0.6256047669239606\n",
      "Index of the best solution : 91\n",
      "Crossentropy :  1.5984533\n",
      "Accuracy :  0.8626\n"
     ]
    }
   ],
   "source": [
    "\n",
    "# Start the genetic algorithm evolution.\n",
    "ga_instance.run()\n",
    "\n",
    "# After the generations complete, some plots are showed that summarize how the outputs/fitness values evolve over generations.\n",
    "ga_instance.plot_fitness(title=\"PyGAD & PyTorch - Iteration vs. Fitness\", linewidth=4)\n",
    "\n",
    "# Returning the details of the best solution.\n",
    "solution, solution_fitness, solution_idx = ga_instance.best_solution()\n",
    "print(\"Fitness value of the best solution = {solution_fitness}\".format(solution_fitness=solution_fitness))\n",
    "print(\"Index of the best solution : {solution_idx}\".format(solution_idx=solution_idx))\n",
    "\n",
    "# Fetch the parameters of the best solution.\n",
    "best_solution_weights = torchga.model_weights_as_dict(model=model,\n",
    "                                                        weights_vector=solution)\n",
    "model.load_state_dict(best_solution_weights)\n",
    "predictions = model(data_inputs)\n",
    "\n",
    "print(\"Crossentropy : \", loss_function(predictions, data_outputs).detach().numpy())\n",
    "\n",
    "# Calculate the classification accuracy for the trained model.\n",
    "accuracy = torch.sum(torch.max(predictions, axis=1).indices == data_outputs) / len(data_outputs)\n",
    "print(\"Accuracy : \", accuracy.detach().numpy())"
   ]
  },
  {
   "cell_type": "code",
   "execution_count": 332,
   "id": "8c0311c3",
   "metadata": {},
   "outputs": [
    {
     "name": "stdout",
     "output_type": "stream",
     "text": [
      "0.8625\n"
     ]
    }
   ],
   "source": [
    "total = 0\n",
    "correct = 0\n",
    "for k, (data, target) in enumerate(loaders['test']):\n",
    "    data = data.view(-1, 28*28)\n",
    "    \n",
    "    outputs = model(data)\n",
    "    predicted = torch.argmax(outputs.data, dim = 1)\n",
    "    \n",
    "    correct += (predicted == target).sum().item()\n",
    "    total += target.size(0)\n",
    "print(correct/total)"
   ]
  },
  {
   "cell_type": "code",
   "execution_count": 333,
   "id": "097203d2",
   "metadata": {},
   "outputs": [
    {
     "data": {
      "text/plain": [
       "[<matplotlib.lines.Line2D at 0x160b8b130>]"
      ]
     },
     "execution_count": 333,
     "metadata": {},
     "output_type": "execute_result"
    },
    {
     "data": {
      "image/png": "[encoded data removed]",
      "text/plain": [
       "<Figure size 432x288 with 1 Axes>"
      ]
     },
     "metadata": {},
     "output_type": "display_data"
    }
   ],
   "source": [
    "import matplotlib.pyplot as plt\n",
    "\n",
    "new_losses = []\n",
    "running_loss = 0\n",
    "for idx, loss in enumerate(losses):\n",
    "    running_loss += loss\n",
    "    if idx % 200 == 199:\n",
    "        new_losses.append(running_loss/200)\n",
    "        running_loss = 0\n",
    "\n",
    "plt.style.use('seaborn-whitegrid')\n",
    "figure = plt.figure()\n",
    "ax1 = figure.add_subplot()\n",
    "ax1.set_ylabel('Loss')\n",
    "ax1.plot(new_losses)"
   ]
  },
  {
   "cell_type": "code",
   "execution_count": 334,
   "id": "b2795c6a",
   "metadata": {},
   "outputs": [],
   "source": [
    "PATH = 'gaModel.pth'"
   ]
  },
  {
   "cell_type": "code",
   "execution_count": 335,
   "id": "e0a831f3",
   "metadata": {},
   "outputs": [],
   "source": [
    "torch.save(model.state_dict(), PATH)"
   ]
  },
  {
   "cell_type": "code",
   "execution_count": 336,
   "id": "c862eb54",
   "metadata": {},
   "outputs": [
    {
     "data": {
      "text/plain": [
       "<All keys matched successfully>"
      ]
     },
     "execution_count": 336,
     "metadata": {},
     "output_type": "execute_result"
    }
   ],
   "source": [
    "model.load_state_dict(torch.load(PATH))"
   ]
  },
  {
   "cell_type": "code",
   "execution_count": 337,
   "id": "447530ee",
   "metadata": {},
   "outputs": [],
   "source": [
    "def accuracy_by_num(model, test_data):\n",
    "    fails = np.zeros(10) # Network's mistakes by number\n",
    "    nums = np.zeros(10) # Amount of each number\n",
    "\n",
    "    for i, (data, target) in enumerate(test_data):\n",
    "        data = data.view(-1, 28*28)\n",
    "        outputs = model(data)\n",
    "        predicted = torch.argmax(outputs.data, dim = 1)\n",
    "    \n",
    "        for i, element in enumerate(predicted):\n",
    "            nums[target[i]] = nums[target[i]] + 1\n",
    "            if element != target[i]:\n",
    "                fails[target[i]] = fails[target[i]] + 1\n",
    "\n",
    "    accuracy_by_num = 1 - np.divide(fails, nums)\n",
    "    return np.around(accuracy_by_num, 4)"
   ]
  },
  {
   "cell_type": "code",
   "execution_count": 338,
   "id": "c41d4852",
   "metadata": {},
   "outputs": [
    {
     "data": {
      "text/plain": [
       "array([0.9408, 0.9383, 0.8653, 0.8347, 0.8849, 0.7836, 0.8852, 0.8599,\n",
       "       0.7947, 0.8206])"
      ]
     },
     "execution_count": 338,
     "metadata": {},
     "output_type": "execute_result"
    }
   ],
   "source": [
    "accuracy_by_num(model, loaders['test'])"
   ]
  },
  {
   "cell_type": "code",
   "execution_count": 43,
   "id": "bdf16873",
   "metadata": {},
   "outputs": [],
   "source": [
    "x = torch.randn(100, 28*28)\n",
    "onnx_path = \"gaModel.onnx\"\n",
    "torch.onnx.export(model, x, onnx_path)"
   ]
  },
  {
   "cell_type": "code",
   "execution_count": null,
   "id": "676d73dc",
   "metadata": {},
   "outputs": [],
   "source": []
  }
 ],
 "metadata": {
  "kernelspec": {
   "display_name": "py_torch",
   "language": "python",
   "name": "py_torch"
  },
  "language_info": {
   "codemirror_mode": {
    "name": "ipython",
    "version": 3
   },
   "file_extension": ".py",
   "mimetype": "text/x-python",
   "name": "python",
   "nbconvert_exporter": "python",
   "pygments_lexer": "ipython3",
   "version": "3.8.10"
  }
 },
 "nbformat": 4,
 "nbformat_minor": 5
}
