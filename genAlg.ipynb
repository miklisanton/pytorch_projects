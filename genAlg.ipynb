{
 "cells": [
  {
   "cell_type": "code",
   "execution_count": 71,
   "id": "269d3122",
   "metadata": {},
   "outputs": [],
   "source": [
    "import torch\n",
    "import torch.nn as nn\n",
    "import torch.nn.functional as F\n",
    "import pygad\n",
    "from pygad import torchga"
   ]
  },
  {
   "cell_type": "code",
   "execution_count": 72,
   "id": "7934efd9",
   "metadata": {},
   "outputs": [],
   "source": [
    "input_layer = torch.nn.Linear(28*28, 50)\n",
    "relu = torch.nn.ReLU()\n",
    "dense_layer = torch.nn.Linear(50, 10)\n",
    "softmax = torch.nn.Softmax(1)\n",
    "\n",
    "model = torch.nn.Sequential(input_layer,\n",
    "                            relu,\n",
    "                            dense_layer,\n",
    "                            softmax)"
   ]
  },
  {
   "cell_type": "code",
   "execution_count": 61,
   "id": "bb33814e",
   "metadata": {},
   "outputs": [],
   "source": [
    "from torchvision import datasets\n",
    "from torchvision.transforms import ToTensor"
   ]
  },
  {
   "cell_type": "code",
   "execution_count": 62,
   "id": "0ae3ea47",
   "metadata": {},
   "outputs": [],
   "source": [
    "import numpy as np"
   ]
  },
  {
   "cell_type": "code",
   "execution_count": 63,
   "id": "20474a88",
   "metadata": {},
   "outputs": [],
   "source": [
    "train_data = datasets.MNIST(\n",
    "    root = 'data',\n",
    "    train = True,\n",
    "    transform = ToTensor(),\n",
    "    download = True\n",
    ")\n",
    "\n",
    "test_data = datasets.MNIST(\n",
    "    root = 'data',\n",
    "    train = False,\n",
    "    transform = ToTensor()\n",
    ")"
   ]
  },
  {
   "cell_type": "code",
   "execution_count": 64,
   "id": "11a0f4f0",
   "metadata": {},
   "outputs": [],
   "source": [
    "from torch.utils.data import DataLoader\n",
    "loaders = {\n",
    "    'train' : torch.utils.data.DataLoader(train_data, \n",
    "                                          batch_size= 10000, \n",
    "                                          shuffle=True,\n",
    "                                          num_workers = 1),\n",
    "    \n",
    "    'test'  : torch.utils.data.DataLoader(test_data, \n",
    "                                          batch_size=100, \n",
    "                                          shuffle=True)\n",
    "}\n",
    "for batch_idx, (data, target) in enumerate(loaders['train']):\n",
    "    data_inputs = data\n",
    "    data_outputs = target"
   ]
  },
  {
   "cell_type": "code",
   "execution_count": 65,
   "id": "11057481",
   "metadata": {},
   "outputs": [],
   "source": [
    "def fitness_func(solution, sol_idx):\n",
    "    global data_inputs, data_outputs, torch_ga, model, loss_function\n",
    "    data_inputs = data_inputs.view(-1, 28*28) \n",
    "    predictions = pygad.torchga.predict(model=model,\n",
    "                                        solution=solution,\n",
    "                                        data=data_inputs)\n",
    "    predictions_no_grad = predictions.detach()\n",
    "    solution_fitness = 1.0 / (loss_function(predictions_no_grad , data_outputs).numpy() + 0.00000001)\n",
    "    return solution_fitness\n",
    "\n",
    "def callback_generation(ga_instance):\n",
    "    print(\"Generation = {generation}\".format(generation=ga_instance.generations_completed))\n",
    "    print(\"Fitness    = {fitness}\".format(fitness=ga_instance.best_solution()[1]))"
   ]
  },
  {
   "cell_type": "code",
   "execution_count": 73,
   "id": "946d87fa",
   "metadata": {},
   "outputs": [],
   "source": [
    "##model.load_state_dict(torch.load(PATH))\n",
    "torch_ga = torchga.TorchGA(model=model,\n",
    "                           num_solutions=100)\n",
    "\n",
    "loss_function = torch.nn.CrossEntropyLoss()"
   ]
  },
  {
   "cell_type": "code",
   "execution_count": 74,
   "id": "fb0dd227",
   "metadata": {},
   "outputs": [],
   "source": [
    "initial_population = torch_ga.population_weights # Initial population of network weights.\n",
    "\n",
    "# Create an instance of the pygad.GA class\n",
    "ga_instance = pygad.GA(num_generations=100,\n",
    "                       sol_per_pop=100,\n",
    "                       crossover_type=\"two_points\",\n",
    "                       parent_selection_type=\"rank\",\n",
    "                       mutation_percent_genes = 20,\n",
    "                       num_parents_mating=4,\n",
    "                       initial_population=initial_population,\n",
    "                       fitness_func=fitness_func,\n",
    "                       on_generation=callback_generation)\n"
   ]
  },
  {
   "cell_type": "code",
   "execution_count": 75,
   "id": "2a450a45",
   "metadata": {
    "scrolled": false
   },
   "outputs": [
    {
     "name": "stdout",
     "output_type": "stream",
     "text": [
      "Generation = 1\n",
      "Fitness    = 0.44250849967677786\n",
      "Generation = 2\n",
      "Fitness    = 0.44250849967677786\n",
      "Generation = 3\n",
      "Fitness    = 0.44642604917691076\n",
      "Generation = 4\n",
      "Fitness    = 0.45223210408563397\n",
      "Generation = 5\n",
      "Fitness    = 0.45409914201118445\n",
      "Generation = 6\n",
      "Fitness    = 0.4549341408445911\n",
      "Generation = 7\n",
      "Fitness    = 0.4672711615549518\n",
      "Generation = 8\n",
      "Fitness    = 0.4673375955650537\n",
      "Generation = 9\n",
      "Fitness    = 0.4679577057110167\n",
      "Generation = 10\n",
      "Fitness    = 0.46896580189298503\n",
      "Generation = 11\n",
      "Fitness    = 0.47211599346402217\n",
      "Generation = 12\n",
      "Fitness    = 0.4753297466024688\n",
      "Generation = 13\n",
      "Fitness    = 0.4753297466024688\n",
      "Generation = 14\n",
      "Fitness    = 0.4753297466024688\n",
      "Generation = 15\n",
      "Fitness    = 0.4790029398084219\n",
      "Generation = 16\n",
      "Fitness    = 0.47910186446729214\n",
      "Generation = 17\n",
      "Fitness    = 0.47910186446729214\n",
      "Generation = 18\n",
      "Fitness    = 0.47910186446729214\n",
      "Generation = 19\n",
      "Fitness    = 0.47910186446729214\n",
      "Generation = 20\n",
      "Fitness    = 0.4799347660842389\n",
      "Generation = 21\n",
      "Fitness    = 0.4799347660842389\n",
      "Generation = 22\n",
      "Fitness    = 0.4824206398230438\n",
      "Generation = 23\n",
      "Fitness    = 0.4824206398230438\n",
      "Generation = 24\n",
      "Fitness    = 0.4830814515739143\n",
      "Generation = 25\n",
      "Fitness    = 0.4866187206300631\n",
      "Generation = 26\n",
      "Fitness    = 0.4866187206300631\n",
      "Generation = 27\n",
      "Fitness    = 0.486643167734892\n",
      "Generation = 28\n",
      "Fitness    = 0.4872279193151633\n",
      "Generation = 29\n",
      "Fitness    = 0.48935599275597036\n",
      "Generation = 30\n",
      "Fitness    = 0.49020387677576277\n",
      "Generation = 31\n",
      "Fitness    = 0.49087361674271124\n",
      "Generation = 32\n",
      "Fitness    = 0.492158072832402\n",
      "Generation = 33\n",
      "Fitness    = 0.49266829961364567\n",
      "Generation = 34\n",
      "Fitness    = 0.4956680615678372\n",
      "Generation = 35\n",
      "Fitness    = 0.49635441197760377\n",
      "Generation = 36\n",
      "Fitness    = 0.49635441197760377\n",
      "Generation = 37\n",
      "Fitness    = 0.4968370663294733\n",
      "Generation = 38\n",
      "Fitness    = 0.4968370663294733\n",
      "Generation = 39\n",
      "Fitness    = 0.49741490826560963\n",
      "Generation = 40\n",
      "Fitness    = 0.49741490826560963\n",
      "Generation = 41\n",
      "Fitness    = 0.4982563454894336\n",
      "Generation = 42\n",
      "Fitness    = 0.4982563454894336\n",
      "Generation = 43\n",
      "Fitness    = 0.4982563454894336\n",
      "Generation = 44\n",
      "Fitness    = 0.4989345152576975\n",
      "Generation = 45\n",
      "Fitness    = 0.49976615868395013\n",
      "Generation = 46\n",
      "Fitness    = 0.49982464255247155\n",
      "Generation = 47\n",
      "Fitness    = 0.49982464255247155\n",
      "Generation = 48\n",
      "Fitness    = 0.49982464255247155\n",
      "Generation = 49\n",
      "Fitness    = 0.49982464255247155\n",
      "Generation = 50\n",
      "Fitness    = 0.5002048531523815\n",
      "Generation = 51\n",
      "Fitness    = 0.5002048531523815\n",
      "Generation = 52\n",
      "Fitness    = 0.5002048531523815\n",
      "Generation = 53\n",
      "Fitness    = 0.5004211905988499\n",
      "Generation = 54\n",
      "Fitness    = 0.5004211905988499\n",
      "Generation = 55\n",
      "Fitness    = 0.5008683033339136\n",
      "Generation = 56\n",
      "Fitness    = 0.5013499823060258\n",
      "Generation = 57\n",
      "Fitness    = 0.5013499823060258\n",
      "Generation = 58\n",
      "Fitness    = 0.501556635614803\n",
      "Generation = 59\n",
      "Fitness    = 0.5031572483247219\n",
      "Generation = 60\n",
      "Fitness    = 0.5031572483247219\n",
      "Generation = 61\n",
      "Fitness    = 0.5031572483247219\n",
      "Generation = 62\n",
      "Fitness    = 0.5031572483247219\n",
      "Generation = 63\n",
      "Fitness    = 0.5035105707205497\n",
      "Generation = 64\n",
      "Fitness    = 0.5035105707205497\n",
      "Generation = 65\n",
      "Fitness    = 0.5035105707205497\n",
      "Generation = 66\n",
      "Fitness    = 0.5035105707205497\n",
      "Generation = 67\n",
      "Fitness    = 0.5037670769641186\n",
      "Generation = 68\n",
      "Fitness    = 0.5040089757156936\n",
      "Generation = 69\n",
      "Fitness    = 0.5075953744772346\n",
      "Generation = 70\n",
      "Fitness    = 0.5075953744772346\n",
      "Generation = 71\n",
      "Fitness    = 0.5109519284471997\n",
      "Generation = 72\n",
      "Fitness    = 0.5112411549966809\n",
      "Generation = 73\n",
      "Fitness    = 0.5126035517649411\n",
      "Generation = 74\n",
      "Fitness    = 0.5141335070729822\n",
      "Generation = 75\n",
      "Fitness    = 0.5144013322966471\n",
      "Generation = 76\n",
      "Fitness    = 0.5159296785378895\n",
      "Generation = 77\n",
      "Fitness    = 0.5170237489880557\n",
      "Generation = 78\n",
      "Fitness    = 0.5181836961827493\n",
      "Generation = 79\n",
      "Fitness    = 0.5181836961827493\n",
      "Generation = 80\n",
      "Fitness    = 0.5185948628764121\n",
      "Generation = 81\n",
      "Fitness    = 0.5198906967746186\n",
      "Generation = 82\n",
      "Fitness    = 0.5200838668304967\n",
      "Generation = 83\n",
      "Fitness    = 0.5206413277902482\n",
      "Generation = 84\n",
      "Fitness    = 0.5221723182077848\n",
      "Generation = 85\n",
      "Fitness    = 0.5224816475845796\n",
      "Generation = 86\n",
      "Fitness    = 0.5231235895374641\n",
      "Generation = 87\n",
      "Fitness    = 0.5231515486087421\n",
      "Generation = 88\n",
      "Fitness    = 0.5234861800170699\n",
      "Generation = 89\n",
      "Fitness    = 0.5240433999955554\n",
      "Generation = 90\n",
      "Fitness    = 0.5241077369473897\n",
      "Generation = 91\n",
      "Fitness    = 0.5250725869601727\n",
      "Generation = 92\n",
      "Fitness    = 0.5250725869601727\n",
      "Generation = 93\n",
      "Fitness    = 0.5250725869601727\n",
      "Generation = 94\n",
      "Fitness    = 0.5252810081618817\n",
      "Generation = 95\n",
      "Fitness    = 0.5255710146357855\n",
      "Generation = 96\n",
      "Fitness    = 0.5260758330808332\n",
      "Generation = 97\n",
      "Fitness    = 0.5260758330808332\n",
      "Generation = 98\n",
      "Fitness    = 0.5260758330808332\n",
      "Generation = 99\n",
      "Fitness    = 0.5261819563066447\n",
      "Generation = 100\n",
      "Fitness    = 0.5277312457122235\n"
     ]
    },
    {
     "data": {
      "image/png": "[encoded data removed]",
      "text/plain": [
       "<Figure size 432x288 with 1 Axes>"
      ]
     },
     "metadata": {
      "needs_background": "light"
     },
     "output_type": "display_data"
    },
    {
     "name": "stdout",
     "output_type": "stream",
     "text": [
      "Fitness value of the best solution = 0.5277312457122235\n",
      "Index of the best solution : 8\n",
      "Crossentropy :  1.8949039\n",
      "Accuracy :  0.5656\n"
     ]
    }
   ],
   "source": [
    "\n",
    "# Start the genetic algorithm evolution.\n",
    "ga_instance.run()\n",
    "\n",
    "# After the generations complete, some plots are showed that summarize how the outputs/fitness values evolve over generations.\n",
    "ga_instance.plot_fitness(title=\"PyGAD & PyTorch - Iteration vs. Fitness\", linewidth=4)\n",
    "\n",
    "# Returning the details of the best solution.\n",
    "solution, solution_fitness, solution_idx = ga_instance.best_solution()\n",
    "print(\"Fitness value of the best solution = {solution_fitness}\".format(solution_fitness=solution_fitness))\n",
    "print(\"Index of the best solution : {solution_idx}\".format(solution_idx=solution_idx))\n",
    "\n",
    "# Fetch the parameters of the best solution.\n",
    "best_solution_weights = torchga.model_weights_as_dict(model=model,\n",
    "                                                        weights_vector=solution)\n",
    "model.load_state_dict(best_solution_weights)\n",
    "predictions = model(data_inputs)\n",
    "\n",
    "print(\"Crossentropy : \", loss_function(predictions, data_outputs).detach().numpy())\n",
    "\n",
    "# Calculate the classification accuracy for the trained model.\n",
    "accuracy = torch.sum(torch.max(predictions, axis=1).indices == data_outputs) / len(data_outputs)\n",
    "print(\"Accuracy : \", accuracy.detach().numpy())"
   ]
  },
  {
   "cell_type": "code",
   "execution_count": 76,
   "id": "8c0311c3",
   "metadata": {},
   "outputs": [
    {
     "name": "stdout",
     "output_type": "stream",
     "text": [
      "0.556\n"
     ]
    }
   ],
   "source": [
    "total = 0\n",
    "correct = 0\n",
    "for k, (data, target) in enumerate(loaders['test']):\n",
    "    data = data.view(-1, 28*28)\n",
    "    \n",
    "    outputs = model(data)\n",
    "    predicted = torch.argmax(outputs.data, dim = 1)\n",
    "    \n",
    "    correct += (predicted == target).sum().item()\n",
    "    total += target.size(0)\n",
    "print(correct/total)"
   ]
  },
  {
   "cell_type": "code",
   "execution_count": 8,
   "id": "b2795c6a",
   "metadata": {},
   "outputs": [],
   "source": [
    "PATH = 'gaModel.pth'\n",
    "torch.save(model.state_dict(), PATH)"
   ]
  },
  {
   "cell_type": "code",
   "execution_count": 14,
   "id": "c862eb54",
   "metadata": {},
   "outputs": [
    {
     "data": {
      "text/plain": [
       "<All keys matched successfully>"
      ]
     },
     "execution_count": 14,
     "metadata": {},
     "output_type": "execute_result"
    }
   ],
   "source": [
    "model.load_state_dict(torch.load(PATH))"
   ]
  },
  {
   "cell_type": "code",
   "execution_count": 77,
   "id": "447530ee",
   "metadata": {},
   "outputs": [],
   "source": [
    "def accuracy_by_num(model, test_data):\n",
    "    fails = np.zeros(10) # Network's mistakes by number\n",
    "    nums = np.zeros(10) # Amount of each number\n",
    "\n",
    "    for i, (data, target) in enumerate(test_data):\n",
    "        data = data.view(-1, 28*28)\n",
    "        outputs = model(data)\n",
    "        predicted = torch.argmax(outputs.data, dim = 1)\n",
    "    \n",
    "    for i, element in enumerate(predicted):\n",
    "        nums[target[i]] = nums[target[i]] + 1\n",
    "        if element != target[i]:\n",
    "            fails[target[i]] = fails[target[i]] + 1\n",
    "\n",
    "    accuracy_by_num = 1 - np.divide(fails, nums)\n",
    "    return np.around(accuracy_by_num, 4)"
   ]
  },
  {
   "cell_type": "code",
   "execution_count": 78,
   "id": "c41d4852",
   "metadata": {},
   "outputs": [
    {
     "data": {
      "text/plain": [
       "array([1.    , 1.    , 0.1429, 0.6429, 0.8   , 0.    , 0.8667, 0.75  ,\n",
       "       0.    , 0.    ])"
      ]
     },
     "execution_count": 78,
     "metadata": {},
     "output_type": "execute_result"
    }
   ],
   "source": [
    "accuracy_by_num(model, loaders['test'])"
   ]
  },
  {
   "cell_type": "code",
   "execution_count": null,
   "id": "bdf16873",
   "metadata": {},
   "outputs": [],
   "source": []
  }
 ],
 "metadata": {
  "kernelspec": {
   "display_name": "py_torch",
   "language": "python",
   "name": "py_torch"
  },
  "language_info": {
   "codemirror_mode": {
    "name": "ipython",
    "version": 3
   },
   "file_extension": ".py",
   "mimetype": "text/x-python",
   "name": "python",
   "nbconvert_exporter": "python",
   "pygments_lexer": "ipython3",
   "version": "3.8.10"
  }
 },
 "nbformat": 4,
 "nbformat_minor": 5
}
